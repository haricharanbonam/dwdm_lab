{
 "cells": [
  {
   "cell_type": "code",
   "execution_count": 1,
   "id": "b71454b5-8e3d-4419-ba13-6382d29a5008",
   "metadata": {},
   "outputs": [],
   "source": [
    "import pandas as pd\n",
    "\n",
    "# Load the dataset\n",
    "df = pd.read_csv(\"C:/Users/Administrator/Desktop/23b91a0543/adult.csv\")\n"
   ]
  },
  {
   "cell_type": "code",
   "execution_count": 2,
   "id": "141a7e45-8c0f-4d8d-ba4c-bf2b24e6a525",
   "metadata": {},
   "outputs": [
    {
     "name": "stdout",
     "output_type": "stream",
     "text": [
      "🔹 First 5 rows of the dataset:\n",
      "   age  workclass  fnlwgt     education  educational-num      marital-status  \\\n",
      "0   25    Private  226802          11th                7       Never-married   \n",
      "1   38    Private   89814       HS-grad                9  Married-civ-spouse   \n",
      "2   28  Local-gov  336951    Assoc-acdm               12  Married-civ-spouse   \n",
      "3   44    Private  160323  Some-college               10  Married-civ-spouse   \n",
      "4   18          ?  103497  Some-college               10       Never-married   \n",
      "\n",
      "          occupation relationship   race  gender  capital-gain  capital-loss  \\\n",
      "0  Machine-op-inspct    Own-child  Black    Male             0             0   \n",
      "1    Farming-fishing      Husband  White    Male             0             0   \n",
      "2    Protective-serv      Husband  White    Male             0             0   \n",
      "3  Machine-op-inspct      Husband  Black    Male          7688             0   \n",
      "4                  ?    Own-child  White  Female             0             0   \n",
      "\n",
      "   hours-per-week native-country income  \n",
      "0              40  United-States  <=50K  \n",
      "1              50  United-States  <=50K  \n",
      "2              40  United-States   >50K  \n",
      "3              40  United-States   >50K  \n",
      "4              30  United-States  <=50K  \n"
     ]
    }
   ],
   "source": [
    "\n",
    "# Show the first 5 rows\n",
    "print(\"🔹 First 5 rows of the dataset:\")\n",
    "print(df.head())\n"
   ]
  },
  {
   "cell_type": "code",
   "execution_count": 3,
   "id": "a68fb8d7-9265-4eff-a7fb-0e9900f7f904",
   "metadata": {},
   "outputs": [
    {
     "name": "stdout",
     "output_type": "stream",
     "text": [
      "\n",
      "🔹 Dataset shape (rows, columns):\n",
      "(48842, 15)\n"
     ]
    }
   ],
   "source": [
    "\n",
    "# Show number of rows and columns\n",
    "print(\"\\n🔹 Dataset shape (rows, columns):\")\n",
    "print(df.shape)\n"
   ]
  },
  {
   "cell_type": "code",
   "execution_count": 4,
   "id": "8c5954cc-45db-4171-ad23-e5eb0110ca83",
   "metadata": {},
   "outputs": [
    {
     "name": "stdout",
     "output_type": "stream",
     "text": [
      "\n",
      "🔹 Data types and non-null values:\n",
      "<class 'pandas.core.frame.DataFrame'>\n",
      "RangeIndex: 48842 entries, 0 to 48841\n",
      "Data columns (total 15 columns):\n",
      " #   Column           Non-Null Count  Dtype \n",
      "---  ------           --------------  ----- \n",
      " 0   age              48842 non-null  int64 \n",
      " 1   workclass        48842 non-null  object\n",
      " 2   fnlwgt           48842 non-null  int64 \n",
      " 3   education        48842 non-null  object\n",
      " 4   educational-num  48842 non-null  int64 \n",
      " 5   marital-status   48842 non-null  object\n",
      " 6   occupation       48842 non-null  object\n",
      " 7   relationship     48842 non-null  object\n",
      " 8   race             48842 non-null  object\n",
      " 9   gender           48842 non-null  object\n",
      " 10  capital-gain     48842 non-null  int64 \n",
      " 11  capital-loss     48842 non-null  int64 \n",
      " 12  hours-per-week   48842 non-null  int64 \n",
      " 13  native-country   48842 non-null  object\n",
      " 14  income           48842 non-null  object\n",
      "dtypes: int64(6), object(9)\n",
      "memory usage: 5.6+ MB\n",
      "None\n"
     ]
    }
   ],
   "source": [
    "\n",
    "# Show data types and non-null counts\n",
    "print(\"\\n🔹 Data types and non-null values:\")\n",
    "print(df.info())\n",
    "\n"
   ]
  },
  {
   "cell_type": "code",
   "execution_count": 5,
   "id": "a23ca422-6b22-4ba3-89b5-f742a44beff7",
   "metadata": {},
   "outputs": [
    {
     "name": "stdout",
     "output_type": "stream",
     "text": [
      "\n",
      "🔹 Missing values per column:\n",
      "Series([], dtype: int64)\n"
     ]
    }
   ],
   "source": [
    "# Show count of missing values per column\n",
    "print(\"\\n🔹 Missing values per column:\")\n",
    "missing_data = df.isnull().sum()\n",
    "print(missing_data[missing_data > 0])\n"
   ]
  },
  {
   "cell_type": "code",
   "execution_count": 6,
   "id": "2367eaa2-abd2-48c7-8084-2f9eaa5a866a",
   "metadata": {},
   "outputs": [
    {
     "name": "stdout",
     "output_type": "stream",
     "text": [
      "\n",
      "🔹 Summary statistics (numerical columns):\n",
      "                age        fnlwgt  educational-num  capital-gain  \\\n",
      "count  48842.000000  4.884200e+04     48842.000000  48842.000000   \n",
      "mean      38.643585  1.896641e+05        10.078089   1079.067626   \n",
      "std       13.710510  1.056040e+05         2.570973   7452.019058   \n",
      "min       17.000000  1.228500e+04         1.000000      0.000000   \n",
      "25%       28.000000  1.175505e+05         9.000000      0.000000   \n",
      "50%       37.000000  1.781445e+05        10.000000      0.000000   \n",
      "75%       48.000000  2.376420e+05        12.000000      0.000000   \n",
      "max       90.000000  1.490400e+06        16.000000  99999.000000   \n",
      "\n",
      "       capital-loss  hours-per-week  \n",
      "count  48842.000000    48842.000000  \n",
      "mean      87.502314       40.422382  \n",
      "std      403.004552       12.391444  \n",
      "min        0.000000        1.000000  \n",
      "25%        0.000000       40.000000  \n",
      "50%        0.000000       40.000000  \n",
      "75%        0.000000       45.000000  \n",
      "max     4356.000000       99.000000  \n"
     ]
    }
   ],
   "source": [
    "\n",
    "# Show summary statistics for numerical columns\n",
    "print(\"\\n🔹 Summary statistics (numerical columns):\")\n",
    "print(df.describe())\n"
   ]
  },
  {
   "cell_type": "code",
   "execution_count": 7,
   "id": "7b3e9207-b995-4d50-b409-4896ce7244a0",
   "metadata": {},
   "outputs": [
    {
     "name": "stdout",
     "output_type": "stream",
     "text": [
      "\n",
      "🔹 Data types of each column:\n",
      "age                 int64\n",
      "workclass          object\n",
      "fnlwgt              int64\n",
      "education          object\n",
      "educational-num     int64\n",
      "marital-status     object\n",
      "occupation         object\n",
      "relationship       object\n",
      "race               object\n",
      "gender             object\n",
      "capital-gain        int64\n",
      "capital-loss        int64\n",
      "hours-per-week      int64\n",
      "native-country     object\n",
      "income             object\n",
      "dtype: object\n"
     ]
    }
   ],
   "source": [
    "# Show data types for all columns\n",
    "print(\"\\n🔹 Data types of each column:\")\n",
    "print(df.dtypes)\n",
    "\n"
   ]
  },
  {
   "cell_type": "code",
   "execution_count": 8,
   "id": "b59ca60f-6af7-4873-98a2-8bf4bc52bb0c",
   "metadata": {},
   "outputs": [
    {
     "name": "stdout",
     "output_type": "stream",
     "text": [
      "\n",
      "🔹 Class distribution in target column:\n",
      "income\n",
      "<=50K    76.071823\n",
      ">50K     23.928177\n",
      "Name: proportion, dtype: float64\n"
     ]
    }
   ],
   "source": [
    "# Check the class distribution of the target column (usually 'income')\n",
    "print(\"\\n🔹 Class distribution in target column:\")\n",
    "print(df['income'].value_counts(normalize=True) * 100)\n",
    "import pandas as pd"
   ]
  },
  {
   "cell_type": "code",
   "execution_count": 9,
   "id": "a1be245f-bb6a-4db9-9c46-b06705837f7a",
   "metadata": {},
   "outputs": [
    {
     "data": {
      "image/png": "[encoded data removed]",
      "text/plain": [
       "<Figure size 640x480 with 1 Axes>"
      ]
     },
     "metadata": {},
     "output_type": "display_data"
    }
   ],
   "source": [
    "import seaborn as sns\n",
    "import matplotlib.pyplot as plt\n",
    "\n",
    "sns.countplot(x='income', data=df)\n",
    "plt.title(\"Class Distribution\")\n",
    "plt.show()"
   ]
  },
  {
   "cell_type": "code",
   "execution_count": 10,
   "id": "a909ebec-5238-4d3c-939a-ee9cc0c4e7bf",
   "metadata": {},
   "outputs": [],
   "source": [
    "# Step 3: Handling missing values and encoding\n",
    "\n",
    "import pandas as pd\n",
    "\n",
    "# Replace '?' with NaN for easier handling\n",
    "df.replace('?', pd.NA, inplace=True)\n"
   ]
  },
  {
   "cell_type": "code",
   "execution_count": 11,
   "id": "7bc253da-b9c2-456d-827e-5bd7b32aee8f",
   "metadata": {},
   "outputs": [
    {
     "name": "stdout",
     "output_type": "stream",
     "text": [
      "Missing values per column after replacing '?':\n",
      "age                   0\n",
      "workclass          2799\n",
      "fnlwgt                0\n",
      "education             0\n",
      "educational-num       0\n",
      "marital-status        0\n",
      "occupation         2809\n",
      "relationship          0\n",
      "race                  0\n",
      "gender                0\n",
      "capital-gain          0\n",
      "capital-loss          0\n",
      "hours-per-week        0\n",
      "native-country      857\n",
      "income                0\n",
      "dtype: int64\n"
     ]
    }
   ],
   "source": [
    "\n",
    "# Check how many missing values per column now\n",
    "print(\"Missing values per column after replacing '?':\")\n",
    "print(df.isnull().sum())\n"
   ]
  },
  {
   "cell_type": "code",
   "execution_count": 15,
   "id": "55f7fa68-3081-4da9-b06f-7b9eea07dedd",
   "metadata": {},
   "outputs": [],
   "source": [
    "\n",
    "\n",
    "\n",
    "df_clean = df.dropna().copy()\n"
   ]
  },
  {
   "cell_type": "code",
   "execution_count": 16,
   "id": "7416af06-8d78-426b-94f1-2d8406b6ee6e",
   "metadata": {},
   "outputs": [
    {
     "name": "stdout",
     "output_type": "stream",
     "text": [
      "\n",
      "Shape before dropping missing values: (48842, 15)\n",
      "Shape after dropping missing values: (45222, 15)\n"
     ]
    }
   ],
   "source": [
    "\n",
    "print(\"\\nShape before dropping missing values:\", df.shape)\n",
    "print(\"Shape after dropping missing values:\", df_clean.shape)\n"
   ]
  },
  {
   "cell_type": "code",
   "execution_count": 17,
   "id": "cc0dbb05-3a42-465d-bc7c-b8fd18a397e1",
   "metadata": {},
   "outputs": [],
   "source": [
    "\n",
    "# Step 3.1: Encode target variable 'income' as binary\n",
    "df_clean['income_>50K'] = df_clean['income'].apply(lambda x: 1 if x.strip() == '>50K' else 0)\n"
   ]
  },
  {
   "cell_type": "code",
   "execution_count": 18,
   "id": "db11face-cf7e-4b45-b824-32cca53410d1",
   "metadata": {},
   "outputs": [
    {
     "name": "stdout",
     "output_type": "stream",
     "text": [
      "\n",
      "Categorical columns to encode: ['workclass', 'education', 'marital-status', 'occupation', 'relationship', 'race', 'gender', 'native-country']\n"
     ]
    }
   ],
   "source": [
    "\n",
    "\n",
    "\n",
    "# Step 3.2: One-hot encode categorical features (exclude original target 'income')\n",
    "categorical_cols = df_clean.select_dtypes(include=['object']).columns.drop('income')\n",
    "\n",
    "print(\"\\nCategorical columns to encode:\", list(categorical_cols))\n",
    "\n",
    "\n"
   ]
  },
  {
   "cell_type": "code",
   "execution_count": 19,
   "id": "0743a8da-3f48-4d23-a64a-8a8c35184e61",
   "metadata": {},
   "outputs": [
    {
     "name": "stdout",
     "output_type": "stream",
     "text": [
      "\n",
      "Shape after encoding: (45222, 98)\n",
      "\n",
      "First 5 rows after encoding:\n",
      "   age  fnlwgt  educational-num  capital-gain  capital-loss  hours-per-week  \\\n",
      "0   25  226802                7             0             0              40   \n",
      "1   38   89814                9             0             0              50   \n",
      "2   28  336951               12             0             0              40   \n",
      "3   44  160323               10          7688             0              40   \n",
      "5   34  198693                6             0             0              30   \n",
      "\n",
      "  income  income_>50K  workclass_Local-gov  workclass_Private  ...  \\\n",
      "0  <=50K            0                False               True  ...   \n",
      "1  <=50K            0                False               True  ...   \n",
      "2   >50K            1                 True              False  ...   \n",
      "3   >50K            1                False               True  ...   \n",
      "5  <=50K            0                False               True  ...   \n",
      "\n",
      "   native-country_Portugal  native-country_Puerto-Rico  \\\n",
      "0                    False                       False   \n",
      "1                    False                       False   \n",
      "2                    False                       False   \n",
      "3                    False                       False   \n",
      "5                    False                       False   \n",
      "\n",
      "   native-country_Scotland  native-country_South  native-country_Taiwan  \\\n",
      "0                    False                 False                  False   \n",
      "1                    False                 False                  False   \n",
      "2                    False                 False                  False   \n",
      "3                    False                 False                  False   \n",
      "5                    False                 False                  False   \n",
      "\n",
      "   native-country_Thailand  native-country_Trinadad&Tobago  \\\n",
      "0                    False                           False   \n",
      "1                    False                           False   \n",
      "2                    False                           False   \n",
      "3                    False                           False   \n",
      "5                    False                           False   \n",
      "\n",
      "   native-country_United-States  native-country_Vietnam  \\\n",
      "0                          True                   False   \n",
      "1                          True                   False   \n",
      "2                          True                   False   \n",
      "3                          True                   False   \n",
      "5                          True                   False   \n",
      "\n",
      "   native-country_Yugoslavia  \n",
      "0                      False  \n",
      "1                      False  \n",
      "2                      False  \n",
      "3                      False  \n",
      "5                      False  \n",
      "\n",
      "[5 rows x 98 columns]\n"
     ]
    }
   ],
   "source": [
    "df_encoded = pd.get_dummies(df_clean, columns=categorical_cols, drop_first=True)\n",
    "\n",
    "print(\"\\nShape after encoding:\", df_encoded.shape)\n",
    "\n",
    "# Preview first 5 rows\n",
    "print(\"\\nFirst 5 rows after encoding:\")\n",
    "print(df_encoded.head())"
   ]
  },
  {
   "cell_type": "code",
   "execution_count": 20,
   "id": "5a82de7a-3970-4c33-82c8-1a333d05c58f",
   "metadata": {},
   "outputs": [
    {
     "name": "stdout",
     "output_type": "stream",
     "text": [
      "Class distribution before balancing:\n",
      "income_>50K\n",
      "0    34014\n",
      "1    11208\n",
      "Name: count, dtype: int64\n",
      "\n",
      "Class distribution in %:\n",
      "income_>50K\n",
      "0    75.215603\n",
      "1    24.784397\n",
      "Name: proportion, dtype: float64\n"
     ]
    }
   ],
   "source": [
    "print(\"Class distribution before balancing:\")\n",
    "print(df_clean['income_>50K'].value_counts())\n",
    "print(\"\\nClass distribution in %:\")\n",
    "print(df_clean['income_>50K'].value_counts(normalize=True) * 100)\n"
   ]
  },
  {
   "cell_type": "code",
   "execution_count": 21,
   "id": "a13f9f29-ec81-4c9b-b11e-625685f95005",
   "metadata": {},
   "outputs": [
    {
     "name": "stdout",
     "output_type": "stream",
     "text": [
      "Majority class size: 34014\n",
      "Minority class size: 11208\n",
      "\n",
      "Balanced class distribution:\n",
      "income_>50K\n",
      "0    34014\n",
      "1    34014\n",
      "Name: count, dtype: int64\n"
     ]
    }
   ],
   "source": [
    "from sklearn.utils import resample\n",
    "\n",
    "# Separate majority and minority classes\n",
    "df_majority = df_clean[df_clean['income_>50K'] == 0]\n",
    "df_minority = df_clean[df_clean['income_>50K'] == 1]\n",
    "\n",
    "print(\"Majority class size:\", len(df_majority))\n",
    "print(\"Minority class size:\", len(df_minority))\n",
    "\n",
    "# Upsample minority class to match majority class size\n",
    "df_minority_upsampled = resample(df_minority,\n",
    "                                 replace=True,             # Sample with replacement\n",
    "                                 n_samples=len(df_majority),  # Match majority size\n",
    "                                 random_state=42)          # For reproducibility\n",
    "\n",
    "# Combine majority and upsampled minority\n",
    "df_balanced = pd.concat([df_majority, df_minority_upsampled])\n",
    "\n",
    "# Shuffle the dataset (optional but recommended)\n",
    "df_balanced = df_balanced.sample(frac=1, random_state=42).reset_index(drop=True)\n",
    "\n",
    "# Check new class distribution\n",
    "print(\"\\nBalanced class distribution:\")\n",
    "print(df_balanced['income_>50K'].value_counts())\n"
   ]
  },
  {
   "cell_type": "code",
   "execution_count": 23,
   "id": "33339268-5759-462d-a683-1d69029b26a7",
   "metadata": {},
   "outputs": [
    {
     "data": {
      "image/png": "[encoded data removed]",
      "text/plain": [
       "<Figure size 640x480 with 1 Axes>"
      ]
     },
     "metadata": {},
     "output_type": "display_data"
    }
   ],
   "source": [
    "import seaborn as sns\n",
    "import matplotlib.pyplot as plt\n",
    "\n",
    "sns.countplot(x='income', data=df_balanced)\n",
    "plt.title(\"Class Distribution\")\n",
    "plt.show()"
   ]
  },
  {
   "cell_type": "code",
   "execution_count": 24,
   "id": "344a44bc-68ce-4865-988b-1512f96705ac",
   "metadata": {},
   "outputs": [
    {
     "name": "stdout",
     "output_type": "stream",
     "text": [
      "        age    fnlwgt  educational-num  capital-gain  capital-loss  \\\n",
      "0 -1.460706  0.015011        -0.624516     -0.196512     -0.259789   \n",
      "1  0.523727 -0.030115         0.536117      1.222424     -0.259789   \n",
      "2 -1.698838  0.258692        -0.624516     -0.196512     -0.259789   \n",
      "3  1.555633  0.092745        -1.785149     -0.196512     -0.259789   \n",
      "4  0.047463  0.608942        -0.237638     -0.196512     -0.259789   \n",
      "\n",
      "   hours-per-week  \n",
      "0       -0.209439  \n",
      "1       -0.209439  \n",
      "2        1.063724  \n",
      "3       -0.209439  \n",
      "4        0.469581  \n"
     ]
    }
   ],
   "source": [
    "from sklearn.preprocessing import StandardScaler\n",
    "\n",
    "# List numeric columns\n",
    "numeric_cols = ['age', 'fnlwgt', 'educational-num', 'capital-gain', 'capital-loss', 'hours-per-week']\n",
    "\n",
    "scaler = StandardScaler()\n",
    "\n",
    "# Fit scaler on balanced data numeric columns and transform\n",
    "df_balanced[numeric_cols] = scaler.fit_transform(df_balanced[numeric_cols])\n",
    "\n",
    "# Check scaled data\n",
    "print(df_balanced[numeric_cols].head())\n"
   ]
  },
  {
   "cell_type": "code",
   "execution_count": 27,
   "id": "99da40f2-f5b6-4e94-be32-70e65f6f198a",
   "metadata": {},
   "outputs": [
    {
     "name": "stdout",
     "output_type": "stream",
     "text": [
      "['gender']\n"
     ]
    }
   ],
   "source": [
    "# List all columns containing 'gender'\n",
    "print([col for col in df_balanced.columns if 'gender' in col])\n"
   ]
  },
  {
   "cell_type": "code",
   "execution_count": 28,
   "id": "d81f6ed9-f1f2-4048-9f09-fa87020241b5",
   "metadata": {},
   "outputs": [
    {
     "data": {
      "image/png": "[encoded data removed]",
      "text/plain": [
       "<Figure size 640x480 with 1 Axes>"
      ]
     },
     "metadata": {},
     "output_type": "display_data"
    }
   ],
   "source": [
    "sns.countplot(x='gender', hue='income_>50K', data=df_balanced)\n",
    "plt.title(\"Income Distribution by Gender\")\n",
    "plt.show()\n"
   ]
  },
  {
   "cell_type": "code",
   "execution_count": 31,
   "id": "2287ff35-8c15-4ece-b2d5-0a788a0c1780",
   "metadata": {},
   "outputs": [
    {
     "data": {
      "image/png": "[encoded data removed]",
      "text/plain": [
       "<Figure size 1000x800 with 2 Axes>"
      ]
     },
     "metadata": {},
     "output_type": "display_data"
    }
   ],
   "source": [
    "import matplotlib.pyplot as plt\n",
    "import seaborn as sns\n",
    "\n",
    "# Select numeric columns only (including the target)\n",
    "numeric_cols = df_balanced.select_dtypes(include=['int64', 'float64']).columns\n",
    "\n",
    "# Calculate correlation matrix\n",
    "corr = df_balanced[numeric_cols].corr()\n",
    "\n",
    "\n",
    "# Plot heatmap of correlation matrix\n",
    "plt.figure(figsize=(10, 8))\n",
    "sns.heatmap(corr, annot=True, cmap='coolwarm', fmt=\".2f\")\n",
    "plt.title(\"Correlation Matrix of Numeric Features\")\n",
    "plt.show()\n"
   ]
  },
  {
   "cell_type": "code",
   "execution_count": 33,
   "id": "f8acd957-7cce-46a9-a220-973d01f2fdeb",
   "metadata": {},
   "outputs": [
    {
     "name": "stdout",
     "output_type": "stream",
     "text": [
      "age                float64\n",
      "fnlwgt             float64\n",
      "educational-num    float64\n",
      "capital-gain       float64\n",
      "capital-loss       float64\n",
      "hours-per-week     float64\n",
      "income_>50K        float64\n",
      "dtype: object\n"
     ]
    }
   ],
   "source": [
    "print(corr.dtypes)\n"
   ]
  },
  {
   "cell_type": "code",
   "execution_count": 30,
   "id": "3b68fa8d-9f2b-4fee-ae28-148d3029610a",
   "metadata": {},
   "outputs": [
    {
     "data": {
      "text/html": [
       "<div>\n",
       "<style scoped>\n",
       "    .dataframe tbody tr th:only-of-type {\n",
       "        vertical-align: middle;\n",
       "    }\n",
       "\n",
       "    .dataframe tbody tr th {\n",
       "        vertical-align: top;\n",
       "    }\n",
       "\n",
       "    .dataframe thead th {\n",
       "        text-align: right;\n",
       "    }\n",
       "</style>\n",
       "<table border=\"1\" class=\"dataframe\">\n",
       "  <thead>\n",
       "    <tr style=\"text-align: right;\">\n",
       "      <th></th>\n",
       "      <th>age</th>\n",
       "      <th>workclass</th>\n",
       "      <th>fnlwgt</th>\n",
       "      <th>education</th>\n",
       "      <th>educational-num</th>\n",
       "      <th>marital-status</th>\n",
       "      <th>occupation</th>\n",
       "      <th>relationship</th>\n",
       "      <th>race</th>\n",
       "      <th>gender</th>\n",
       "      <th>capital-gain</th>\n",
       "      <th>capital-loss</th>\n",
       "      <th>hours-per-week</th>\n",
       "      <th>native-country</th>\n",
       "      <th>income</th>\n",
       "      <th>income_&gt;50K</th>\n",
       "    </tr>\n",
       "  </thead>\n",
       "  <tbody>\n",
       "    <tr>\n",
       "      <th>0</th>\n",
       "      <td>-1.460706</td>\n",
       "      <td>Private</td>\n",
       "      <td>0.015011</td>\n",
       "      <td>HS-grad</td>\n",
       "      <td>-0.624516</td>\n",
       "      <td>Married-civ-spouse</td>\n",
       "      <td>Other-service</td>\n",
       "      <td>Husband</td>\n",
       "      <td>White</td>\n",
       "      <td>Male</td>\n",
       "      <td>-0.196512</td>\n",
       "      <td>-0.259789</td>\n",
       "      <td>-0.209439</td>\n",
       "      <td>United-States</td>\n",
       "      <td>&lt;=50K</td>\n",
       "      <td>0</td>\n",
       "    </tr>\n",
       "    <tr>\n",
       "      <th>1</th>\n",
       "      <td>0.523727</td>\n",
       "      <td>Federal-gov</td>\n",
       "      <td>-0.030115</td>\n",
       "      <td>Assoc-acdm</td>\n",
       "      <td>0.536117</td>\n",
       "      <td>Married-civ-spouse</td>\n",
       "      <td>Exec-managerial</td>\n",
       "      <td>Husband</td>\n",
       "      <td>White</td>\n",
       "      <td>Male</td>\n",
       "      <td>1.222424</td>\n",
       "      <td>-0.259789</td>\n",
       "      <td>-0.209439</td>\n",
       "      <td>United-States</td>\n",
       "      <td>&gt;50K</td>\n",
       "      <td>1</td>\n",
       "    </tr>\n",
       "    <tr>\n",
       "      <th>2</th>\n",
       "      <td>-1.698838</td>\n",
       "      <td>Private</td>\n",
       "      <td>0.258692</td>\n",
       "      <td>HS-grad</td>\n",
       "      <td>-0.624516</td>\n",
       "      <td>Divorced</td>\n",
       "      <td>Tech-support</td>\n",
       "      <td>Unmarried</td>\n",
       "      <td>White</td>\n",
       "      <td>Female</td>\n",
       "      <td>-0.196512</td>\n",
       "      <td>-0.259789</td>\n",
       "      <td>1.063724</td>\n",
       "      <td>United-States</td>\n",
       "      <td>&lt;=50K</td>\n",
       "      <td>0</td>\n",
       "    </tr>\n",
       "    <tr>\n",
       "      <th>3</th>\n",
       "      <td>1.555633</td>\n",
       "      <td>Private</td>\n",
       "      <td>0.092745</td>\n",
       "      <td>10th</td>\n",
       "      <td>-1.785149</td>\n",
       "      <td>Married-civ-spouse</td>\n",
       "      <td>Machine-op-inspct</td>\n",
       "      <td>Husband</td>\n",
       "      <td>White</td>\n",
       "      <td>Male</td>\n",
       "      <td>-0.196512</td>\n",
       "      <td>-0.259789</td>\n",
       "      <td>-0.209439</td>\n",
       "      <td>United-States</td>\n",
       "      <td>&lt;=50K</td>\n",
       "      <td>0</td>\n",
       "    </tr>\n",
       "    <tr>\n",
       "      <th>4</th>\n",
       "      <td>0.047463</td>\n",
       "      <td>Private</td>\n",
       "      <td>0.608942</td>\n",
       "      <td>Some-college</td>\n",
       "      <td>-0.237638</td>\n",
       "      <td>Married-civ-spouse</td>\n",
       "      <td>Craft-repair</td>\n",
       "      <td>Husband</td>\n",
       "      <td>White</td>\n",
       "      <td>Male</td>\n",
       "      <td>-0.196512</td>\n",
       "      <td>-0.259789</td>\n",
       "      <td>0.469581</td>\n",
       "      <td>United-States</td>\n",
       "      <td>&gt;50K</td>\n",
       "      <td>1</td>\n",
       "    </tr>\n",
       "  </tbody>\n",
       "</table>\n",
       "</div>"
      ],
      "text/plain": [
       "        age    workclass    fnlwgt     education  educational-num  \\\n",
       "0 -1.460706      Private  0.015011       HS-grad        -0.624516   \n",
       "1  0.523727  Federal-gov -0.030115    Assoc-acdm         0.536117   \n",
       "2 -1.698838      Private  0.258692       HS-grad        -0.624516   \n",
       "3  1.555633      Private  0.092745          10th        -1.785149   \n",
       "4  0.047463      Private  0.608942  Some-college        -0.237638   \n",
       "\n",
       "       marital-status         occupation relationship   race  gender  \\\n",
       "0  Married-civ-spouse      Other-service      Husband  White    Male   \n",
       "1  Married-civ-spouse    Exec-managerial      Husband  White    Male   \n",
       "2            Divorced       Tech-support    Unmarried  White  Female   \n",
       "3  Married-civ-spouse  Machine-op-inspct      Husband  White    Male   \n",
       "4  Married-civ-spouse       Craft-repair      Husband  White    Male   \n",
       "\n",
       "   capital-gain  capital-loss  hours-per-week native-country income  \\\n",
       "0     -0.196512     -0.259789       -0.209439  United-States  <=50K   \n",
       "1      1.222424     -0.259789       -0.209439  United-States   >50K   \n",
       "2     -0.196512     -0.259789        1.063724  United-States  <=50K   \n",
       "3     -0.196512     -0.259789       -0.209439  United-States  <=50K   \n",
       "4     -0.196512     -0.259789        0.469581  United-States   >50K   \n",
       "\n",
       "   income_>50K  \n",
       "0            0  \n",
       "1            1  \n",
       "2            0  \n",
       "3            0  \n",
       "4            1  "
      ]
     },
     "execution_count": 30,
     "metadata": {},
     "output_type": "execute_result"
    }
   ],
   "source": [
    "df_balanced.head()"
   ]
  },
  {
   "cell_type": "code",
   "execution_count": 34,
   "id": "5bbf0499-fd7c-463b-b647-d8369a3968d5",
   "metadata": {},
   "outputs": [
    {
     "name": "stdout",
     "output_type": "stream",
     "text": [
      "Columns after dropping 'fnlwgt':\n",
      "Index(['age', 'workclass', 'education', 'educational-num', 'marital-status',\n",
      "       'occupation', 'relationship', 'race', 'gender', 'capital-gain',\n",
      "       'capital-loss', 'hours-per-week', 'native-country', 'income',\n",
      "       'income_>50K'],\n",
      "      dtype='object')\n"
     ]
    }
   ],
   "source": [
    "# Why remove 'fnlwgt'?\n",
    "# ----------------------------------\n",
    "# 1. 'fnlwgt' has a very low correlation with the target variable 'income_>50K' (~ -0.01),\n",
    "#    which means it doesn't have a meaningful linear relationship with income.\n",
    "# 2. Features with near-zero correlation typically contribute very little useful information \n",
    "#    for prediction and may add noise or complexity to the model.\n",
    "# 3. Other numerical features like 'age', 'educational-num', and 'hours-per-week' show\n",
    "#    moderate positive correlation, meaning they have predictive value, so we keep them.\n",
    "# 4. Features with low but positive correlation like 'capital-gain' and 'capital-loss' might\n",
    "#    still hold useful information, so it's safer to keep them for now.\n",
    "\n",
    "# Dropping the 'fnlwgt' column from the dataframe\n",
    "df_balanced = df_balanced.drop(columns=['fnlwgt'])\n",
    "\n",
    "# Check the dataframe columns after removal\n",
    "print(\"Columns after dropping 'fnlwgt':\")\n",
    "print(df_balanced.columns)\n"
   ]
  },
  {
   "cell_type": "code",
   "execution_count": 35,
   "id": "c8928ec2-85a8-4c0d-8921-bc3e90991aa8",
   "metadata": {},
   "outputs": [
    {
     "name": "stdout",
     "output_type": "stream",
     "text": [
      "Data shape after dropping 'fnlwgt': (68028, 15)\n",
      "Columns now in the dataset:\n",
      "Index(['age', 'workclass', 'education', 'educational-num', 'marital-status',\n",
      "       'occupation', 'relationship', 'race', 'gender', 'capital-gain',\n",
      "       'capital-loss', 'hours-per-week', 'native-country', 'income',\n",
      "       'income_>50K'],\n",
      "      dtype='object')\n"
     ]
    },
    {
     "ename": "ValueError",
     "evalue": "could not convert string to float: 'Private'",
     "output_type": "error",
     "traceback": [
      "\u001b[1;31m---------------------------------------------------------------------------\u001b[0m",
      "\u001b[1;31mValueError\u001b[0m                                Traceback (most recent call last)",
      "Cell \u001b[1;32mIn[35], line 7\u001b[0m\n\u001b[0;32m      4\u001b[0m \u001b[38;5;28mprint\u001b[39m(df_balanced\u001b[38;5;241m.\u001b[39mcolumns)\n\u001b[0;32m      6\u001b[0m \u001b[38;5;66;03m# (Optional) Recalculate correlation matrix without fnlwgt\u001b[39;00m\n\u001b[1;32m----> 7\u001b[0m corr \u001b[38;5;241m=\u001b[39m df_balanced\u001b[38;5;241m.\u001b[39mcorr()\n\u001b[0;32m      8\u001b[0m \u001b[38;5;28mprint\u001b[39m(\u001b[38;5;124m\"\u001b[39m\u001b[38;5;124mCorrelation matrix without \u001b[39m\u001b[38;5;124m'\u001b[39m\u001b[38;5;124mfnlwgt\u001b[39m\u001b[38;5;124m'\u001b[39m\u001b[38;5;124m:\u001b[39m\u001b[38;5;124m\"\u001b[39m)\n\u001b[0;32m      9\u001b[0m \u001b[38;5;28mprint\u001b[39m(corr[\u001b[38;5;124m'\u001b[39m\u001b[38;5;124mincome_>50K\u001b[39m\u001b[38;5;124m'\u001b[39m]\u001b[38;5;241m.\u001b[39msort_values(ascending\u001b[38;5;241m=\u001b[39m\u001b[38;5;28;01mFalse\u001b[39;00m))\n",
      "File \u001b[1;32mC:\\ProgramData\\anaconda3\\Lib\\site-packages\\pandas\\core\\frame.py:11049\u001b[0m, in \u001b[0;36mDataFrame.corr\u001b[1;34m(self, method, min_periods, numeric_only)\u001b[0m\n\u001b[0;32m  11047\u001b[0m cols \u001b[38;5;241m=\u001b[39m data\u001b[38;5;241m.\u001b[39mcolumns\n\u001b[0;32m  11048\u001b[0m idx \u001b[38;5;241m=\u001b[39m cols\u001b[38;5;241m.\u001b[39mcopy()\n\u001b[1;32m> 11049\u001b[0m mat \u001b[38;5;241m=\u001b[39m data\u001b[38;5;241m.\u001b[39mto_numpy(dtype\u001b[38;5;241m=\u001b[39m\u001b[38;5;28mfloat\u001b[39m, na_value\u001b[38;5;241m=\u001b[39mnp\u001b[38;5;241m.\u001b[39mnan, copy\u001b[38;5;241m=\u001b[39m\u001b[38;5;28;01mFalse\u001b[39;00m)\n\u001b[0;32m  11051\u001b[0m \u001b[38;5;28;01mif\u001b[39;00m method \u001b[38;5;241m==\u001b[39m \u001b[38;5;124m\"\u001b[39m\u001b[38;5;124mpearson\u001b[39m\u001b[38;5;124m\"\u001b[39m:\n\u001b[0;32m  11052\u001b[0m     correl \u001b[38;5;241m=\u001b[39m libalgos\u001b[38;5;241m.\u001b[39mnancorr(mat, minp\u001b[38;5;241m=\u001b[39mmin_periods)\n",
      "File \u001b[1;32mC:\\ProgramData\\anaconda3\\Lib\\site-packages\\pandas\\core\\frame.py:1993\u001b[0m, in \u001b[0;36mDataFrame.to_numpy\u001b[1;34m(self, dtype, copy, na_value)\u001b[0m\n\u001b[0;32m   1991\u001b[0m \u001b[38;5;28;01mif\u001b[39;00m dtype \u001b[38;5;129;01mis\u001b[39;00m \u001b[38;5;129;01mnot\u001b[39;00m \u001b[38;5;28;01mNone\u001b[39;00m:\n\u001b[0;32m   1992\u001b[0m     dtype \u001b[38;5;241m=\u001b[39m np\u001b[38;5;241m.\u001b[39mdtype(dtype)\n\u001b[1;32m-> 1993\u001b[0m result \u001b[38;5;241m=\u001b[39m \u001b[38;5;28mself\u001b[39m\u001b[38;5;241m.\u001b[39m_mgr\u001b[38;5;241m.\u001b[39mas_array(dtype\u001b[38;5;241m=\u001b[39mdtype, copy\u001b[38;5;241m=\u001b[39mcopy, na_value\u001b[38;5;241m=\u001b[39mna_value)\n\u001b[0;32m   1994\u001b[0m \u001b[38;5;28;01mif\u001b[39;00m result\u001b[38;5;241m.\u001b[39mdtype \u001b[38;5;129;01mis\u001b[39;00m \u001b[38;5;129;01mnot\u001b[39;00m dtype:\n\u001b[0;32m   1995\u001b[0m     result \u001b[38;5;241m=\u001b[39m np\u001b[38;5;241m.\u001b[39masarray(result, dtype\u001b[38;5;241m=\u001b[39mdtype)\n",
      "File \u001b[1;32mC:\\ProgramData\\anaconda3\\Lib\\site-packages\\pandas\\core\\internals\\managers.py:1694\u001b[0m, in \u001b[0;36mBlockManager.as_array\u001b[1;34m(self, dtype, copy, na_value)\u001b[0m\n\u001b[0;32m   1692\u001b[0m         arr\u001b[38;5;241m.\u001b[39mflags\u001b[38;5;241m.\u001b[39mwriteable \u001b[38;5;241m=\u001b[39m \u001b[38;5;28;01mFalse\u001b[39;00m\n\u001b[0;32m   1693\u001b[0m \u001b[38;5;28;01melse\u001b[39;00m:\n\u001b[1;32m-> 1694\u001b[0m     arr \u001b[38;5;241m=\u001b[39m \u001b[38;5;28mself\u001b[39m\u001b[38;5;241m.\u001b[39m_interleave(dtype\u001b[38;5;241m=\u001b[39mdtype, na_value\u001b[38;5;241m=\u001b[39mna_value)\n\u001b[0;32m   1695\u001b[0m     \u001b[38;5;66;03m# The underlying data was copied within _interleave, so no need\u001b[39;00m\n\u001b[0;32m   1696\u001b[0m     \u001b[38;5;66;03m# to further copy if copy=True or setting na_value\u001b[39;00m\n\u001b[0;32m   1698\u001b[0m \u001b[38;5;28;01mif\u001b[39;00m na_value \u001b[38;5;129;01mis\u001b[39;00m lib\u001b[38;5;241m.\u001b[39mno_default:\n",
      "File \u001b[1;32mC:\\ProgramData\\anaconda3\\Lib\\site-packages\\pandas\\core\\internals\\managers.py:1753\u001b[0m, in \u001b[0;36mBlockManager._interleave\u001b[1;34m(self, dtype, na_value)\u001b[0m\n\u001b[0;32m   1751\u001b[0m     \u001b[38;5;28;01melse\u001b[39;00m:\n\u001b[0;32m   1752\u001b[0m         arr \u001b[38;5;241m=\u001b[39m blk\u001b[38;5;241m.\u001b[39mget_values(dtype)\n\u001b[1;32m-> 1753\u001b[0m     result[rl\u001b[38;5;241m.\u001b[39mindexer] \u001b[38;5;241m=\u001b[39m arr\n\u001b[0;32m   1754\u001b[0m     itemmask[rl\u001b[38;5;241m.\u001b[39mindexer] \u001b[38;5;241m=\u001b[39m \u001b[38;5;241m1\u001b[39m\n\u001b[0;32m   1756\u001b[0m \u001b[38;5;28;01mif\u001b[39;00m \u001b[38;5;129;01mnot\u001b[39;00m itemmask\u001b[38;5;241m.\u001b[39mall():\n",
      "\u001b[1;31mValueError\u001b[0m: could not convert string to float: 'Private'"
     ]
    }
   ],
   "source": [
    "# Check the shape and columns after dropping fnlwgt\n",
    "print(\"Data shape after dropping 'fnlwgt':\", df_balanced.shape)\n",
    "print(\"Columns now in the dataset:\")\n",
    "print(df_balanced.columns)\n",
    "\n",
    "# (Optional) Recalculate correlation matrix without fnlwgt\n",
    "corr = df_balanced.corr()\n",
    "print(\"Correlation matrix without 'fnlwgt':\")\n",
    "print(corr['income_>50K'].sort_values(ascending=False))\n"
   ]
  },
  {
   "cell_type": "code",
   "execution_count": null,
   "id": "1237ee80-aa07-4f09-83a3-5a3723cb5548",
   "metadata": {},
   "outputs": [],
   "source": []
  }
 ],
 "metadata": {
  "kernelspec": {
   "display_name": "Python 3 (ipykernel)",
   "language": "python",
   "name": "python3"
  },
  "language_info": {
   "codemirror_mode": {
    "name": "ipython",
    "version": 3
   },
   "file_extension": ".py",
   "mimetype": "text/x-python",
   "name": "python",
   "nbconvert_exporter": "python",
   "pygments_lexer": "ipython3",
   "version": "3.13.5"
  }
 },
 "nbformat": 4,
 "nbformat_minor": 5
}
